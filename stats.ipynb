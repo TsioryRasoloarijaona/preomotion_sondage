{
 "cells": [
  {
   "cell_type": "code",
   "execution_count": null,
   "id": "8aff99e8-fd44-4fac-b83f-50ebb742692a",
   "metadata": {},
   "outputs": [],
   "source": [
    "import gspread\n",
    "from oauth2client.service_account import ServiceAccountCredentials\n",
    "import pandas as pd"
   ]
  },
  {
   "cell_type": "code",
   "execution_count": null,
   "id": "d5cb7187-3aa8-4e6d-af33-820a05742102",
   "metadata": {},
   "outputs": [],
   "source": [
    "#read the data file from google sheet\n",
    "def read_google_sheet(file , sheet_name ) :\n",
    "    scope = [\"https://spreadsheets.google.com/feeds\",\n",
    "             \"https://www.googleapis.com/auth/drive\"]\n",
    "    creds = ServiceAccountCredentials.from_json_keyfile_name('sheet_secret.json', scope)\n",
    "    client = gspread.authorize(creds)\n",
    "    spreadsheet = client.open(file)\n",
    "    worksheet = spreadsheet.worksheet(sheet_name)\n",
    "    data = worksheet.get_all_records()\n",
    "    df = pd.DataFrame(data)\n",
    "    return df"
   ]
  },
  {
   "cell_type": "code",
   "execution_count": null,
   "id": "b9a0f582-2b95-456e-b6da-eb67137cc441",
   "metadata": {},
   "outputs": [
    {
     "name": "stdout",
     "output_type": "stream",
     "text": [
      "   age  revenu genre          promotion    reduction          acharnement  \\\n",
      "0   21     100     H  reduction_directe      plus_75  tout_a_fait_daccord   \n",
      "1   22     100     H  reduction_directe  entre_51_75  pas_du_tout_daccord   \n",
      "2   20     100     H              bogof     moins_10  tout_a_fait_daccord   \n",
      "3   12    1000     H      offre_groupee  entre_10_25       plutot_daccord   \n",
      "4   20    3000     F  reduction_directe  entre_51_75  pas_du_tout_daccord   \n",
      "5   22       0     H            gratuit  entre_51_75  tout_a_fait_daccord   \n",
      "6   25    1000     H  reduction_directe  entre_10_25       plutot_daccord   \n",
      "7   22    5000     F  reduction_directe  entre_26_50       plutot_daccord   \n",
      "8   18       0     F  reduction_directe      plus_75       plutot_daccord   \n",
      "\n",
      "              facteur              attitude                   produit  \\\n",
      "0  avis_consommateurs         fidele_marque               accessoires   \n",
      "1   utilite_immediate  recherche_promotions  smartphone_haut_de_gamme   \n",
      "2       duree_limitee         fidele_marque  smartphone_haut_de_gamme   \n",
      "3   utilite_immediate  recherche_promotions          objets_connectes   \n",
      "4      qualite_percue    rachat_prix_normal     ordinateurs_portables   \n",
      "5      marque_produit    partage_experience               accessoires   \n",
      "6       duree_limitee    partage_experience               accessoires   \n",
      "7  avis_consommateurs  recherche_promotions     ordinateurs_portables   \n",
      "8      qualite_percue    rachat_prix_normal  smartphone_haut_de_gamme   \n",
      "\n",
      "               promo_info              dissuasion  \n",
      "0         duree_promotion           doute_qualite  \n",
      "1              prix_final  suspicion_augmentation  \n",
      "2   pourcentage_reduction  suspicion_augmentation  \n",
      "3   pourcentage_reduction  suspicion_augmentation  \n",
      "4         duree_promotion   contraintes_promotion  \n",
      "5  conditions_application           doute_qualite  \n",
      "6              prix_final           doute_qualite  \n",
      "7         difference_prix           doute_qualite  \n",
      "8         difference_prix   contraintes_promotion  \n"
     ]
    }
   ],
   "source": [
    "data = read_google_sheet('analyse' , 'Feuille 1')\n",
    "print(data)"
   ]
  },
  {
   "cell_type": "code",
   "execution_count": null,
   "id": "47d4b3ce-d6f8-4c44-ba2e-77a9d880b51b",
   "metadata": {},
   "outputs": [
    {
     "name": "stdout",
     "output_type": "stream",
     "text": [
      "                    produit promotion_la_plus_frequente  nombre_occurrences\n",
      "0               accessoires           reduction_directe                   2\n",
      "1          objets_connectes               offre_groupee                   1\n",
      "2     ordinateurs_portables           reduction_directe                   2\n",
      "3  smartphone_haut_de_gamme           reduction_directe                   2\n"
     ]
    }
   ],
   "source": [
    "def most_liked_prom(x):\n",
    "       freq = x.value_counts()\n",
    "       return pd.Series({\n",
    "            'promotion_la_plus_frequente': freq.idxmax(),\n",
    "            'nombre_occurrences': freq.max()\n",
    "        })\n",
    "\n",
    "df_promo_product = (\n",
    "    data.groupby('produit')['promotion']\n",
    "    .agg([\n",
    "        ('promotion_la_plus_frequente', lambda x: x.value_counts().idxmax()),\n",
    "        ('nombre_occurrences', lambda x: x.value_counts().max())\n",
    "    ])\n",
    "    .reset_index()\n",
    ")\n",
    "\n",
    "df_promo_product.columns = ['produit', 'promotion_la_plus_frequente', 'nombre_occurrences']\n",
    "\n",
    "print(df_promo_product)"
   ]
  },
  {
   "cell_type": "code",
   "execution_count": null,
   "id": "c4ee2dbd-b234-48ef-bec4-c9a7dedb19dd",
   "metadata": {},
   "outputs": [],
   "source": [
    "from utils import write_xl_file\n",
    "from utils import clear_google_sheet"
   ]
  },
  {
   "cell_type": "code",
   "execution_count": null,
   "id": "a34c9791-c29a-4563-b546-9baf83480f32",
   "metadata": {},
   "outputs": [
    {
     "name": "stdout",
     "output_type": "stream",
     "text": [
      "Aucune ligne à supprimer en dehors de l’en-tête.\n"
     ]
    }
   ],
   "source": [
    "clear_google_sheet(\"promo_product\" , \"Feuille 1\")"
   ]
  },
  {
   "cell_type": "code",
   "execution_count": null,
   "id": "71b52f2d-1566-4c94-8f5d-959bb5d723ef",
   "metadata": {},
   "outputs": [
    {
     "name": "stdout",
     "output_type": "stream",
     "text": [
      "Les données ont été téléchargées dans Google Sheets.\n"
     ]
    }
   ],
   "source": [
    "write_xl_file(\"promo_product\", df_promo_product)"
   ]
  },
  {
   "cell_type": "code",
   "execution_count": null,
   "id": "70609b6d-d870-4a45-9430-aecb6c6376e5",
   "metadata": {},
   "outputs": [
    {
     "name": "stdout",
     "output_type": "stream",
     "text": [
      "5000\n"
     ]
    }
   ],
   "source": [
    "min_income = data['revenu'].min()\n",
    "max_income = data['revenu'].max()\n",
    "print(max_income)"
   ]
  },
  {
   "cell_type": "code",
   "execution_count": null,
   "id": "34fadbb0-6b51-4193-ad03-61d5287d9fde",
   "metadata": {},
   "outputs": [
    {
     "name": "stdout",
     "output_type": "stream",
     "text": [
      "   age  revenu genre          promotion    reduction          acharnement  \\\n",
      "0   21     100     H  reduction_directe      plus_75  tout_a_fait_daccord   \n",
      "1   22     100     H  reduction_directe  entre_51_75  pas_du_tout_daccord   \n",
      "2   20     100     H              bogof     moins_10  tout_a_fait_daccord   \n",
      "3   12    1000     H      offre_groupee  entre_10_25       plutot_daccord   \n",
      "4   20    3000     F  reduction_directe  entre_51_75  pas_du_tout_daccord   \n",
      "5   22       0     H            gratuit  entre_51_75  tout_a_fait_daccord   \n",
      "6   25    1000     H  reduction_directe  entre_10_25       plutot_daccord   \n",
      "7   22    5000     F  reduction_directe  entre_26_50       plutot_daccord   \n",
      "8   18       0     F  reduction_directe      plus_75       plutot_daccord   \n",
      "\n",
      "              facteur              attitude                   produit  \\\n",
      "0  avis_consommateurs         fidele_marque               accessoires   \n",
      "1   utilite_immediate  recherche_promotions  smartphone_haut_de_gamme   \n",
      "2       duree_limitee         fidele_marque  smartphone_haut_de_gamme   \n",
      "3   utilite_immediate  recherche_promotions          objets_connectes   \n",
      "4      qualite_percue    rachat_prix_normal     ordinateurs_portables   \n",
      "5      marque_produit    partage_experience               accessoires   \n",
      "6       duree_limitee    partage_experience               accessoires   \n",
      "7  avis_consommateurs  recherche_promotions     ordinateurs_portables   \n",
      "8      qualite_percue    rachat_prix_normal  smartphone_haut_de_gamme   \n",
      "\n",
      "               promo_info              dissuasion revenu_intervalle  \n",
      "0         duree_promotion           doute_qualite               bas  \n",
      "1              prix_final  suspicion_augmentation               bas  \n",
      "2   pourcentage_reduction  suspicion_augmentation               bas  \n",
      "3   pourcentage_reduction  suspicion_augmentation               bas  \n",
      "4         duree_promotion   contraintes_promotion             moyen  \n",
      "5  conditions_application           doute_qualite               bas  \n",
      "6              prix_final           doute_qualite               bas  \n",
      "7         difference_prix           doute_qualite             eleve  \n",
      "8         difference_prix   contraintes_promotion               bas  \n"
     ]
    }
   ],
   "source": [
    "bins = [min_income , (min_income + max_income) / 3 , 2 * (min_income + max_income) / 3, max_income]\n",
    "labels_intervals = ['bas' , 'moyen' , 'eleve']\n",
    "data['revenu_intervalle'] = pd.cut(data['revenu'], bins=bins, labels=labels_intervals, include_lowest=True)\n",
    "print(data)"
   ]
  },
  {
   "cell_type": "code",
   "execution_count": null,
   "id": "dd4878ac-9d2e-4843-84b3-ed5448e6ff41",
   "metadata": {},
   "outputs": [],
   "source": [
    "def prom_for_each_income(df , filter_type) :\n",
    "    promo = df [df['revenu_intervalle'] == filter_type]['promotion']\n",
    "    values = [[val] for val in promo.tolist()]\n",
    "    df_filtered = pd.DataFrame(values , columns = ['promotion'] )\n",
    "    return df_filtered"
   ]
  },
  {
   "cell_type": "code",
   "execution_count": null,
   "id": "9411f817-e9b9-4100-b669-57c625c74300",
   "metadata": {},
   "outputs": [
    {
     "name": "stdout",
     "output_type": "stream",
     "text": [
      "           promotion\n",
      "0  reduction_directe\n",
      "           promotion\n",
      "0  reduction_directe\n"
     ]
    }
   ],
   "source": [
    "#print(prom_for_each_income(data , 'bas'))\n",
    "print(prom_for_each_income(data , 'moyen'))\n",
    "print(prom_for_each_income(data , 'eleve'))\n"
   ]
  },
  {
   "cell_type": "code",
   "execution_count": null,
   "id": "65f1a9e5-52da-4c33-8238-63812ece8abd",
   "metadata": {},
   "outputs": [
    {
     "name": "stdout",
     "output_type": "stream",
     "text": [
      "6 lignes supprimées (l’en-tête a été conservé).\n",
      "Les données ont été téléchargées dans Google Sheets.\n"
     ]
    }
   ],
   "source": [
    "clear_google_sheet(\"bas\" , \"Feuille 1\")\n",
    "write_xl_file(\"bas\", prom_for_each_income(data , 'bas'))"
   ]
  },
  {
   "cell_type": "code",
   "execution_count": null,
   "id": "25f836c8-eafc-472d-95d8-d135baa67088",
   "metadata": {},
   "outputs": [
    {
     "name": "stdout",
     "output_type": "stream",
     "text": [
      "1 lignes supprimées (l’en-tête a été conservé).\n",
      "Les données ont été téléchargées dans Google Sheets.\n"
     ]
    }
   ],
   "source": [
    "clear_google_sheet(\"moyen\" , \"Feuille 1\")\n",
    "write_xl_file(\"moyen\", prom_for_each_income(data , 'moyen'))"
   ]
  },
  {
   "cell_type": "code",
   "execution_count": null,
   "id": "365911b8-04e7-4184-9047-4d58c1441819",
   "metadata": {},
   "outputs": [
    {
     "name": "stdout",
     "output_type": "stream",
     "text": [
      "1 lignes supprimées (l’en-tête a été conservé).\n",
      "Les données ont été téléchargées dans Google Sheets.\n"
     ]
    }
   ],
   "source": [
    "clear_google_sheet(\"eleve\" , \"Feuille 1\")\n",
    "write_xl_file(\"eleve\", prom_for_each_income(data , 'eleve'))"
   ]
  }
 ],
 "metadata": {
  "kernelspec": {
   "display_name": "Python 3 (ipykernel)",
   "language": "python",
   "name": "python3"
  },
  "language_info": {
   "codemirror_mode": {
    "name": "ipython",
    "version": 3
   },
   "file_extension": ".py",
   "mimetype": "text/x-python",
   "name": "python",
   "nbconvert_exporter": "python",
   "pygments_lexer": "ipython3",
   "version": "3.12.3"
  }
 },
 "nbformat": 4,
 "nbformat_minor": 5
}
