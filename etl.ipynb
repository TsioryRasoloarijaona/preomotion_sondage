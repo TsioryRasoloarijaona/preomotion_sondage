{
 "cells": [
  {
   "cell_type": "code",
   "execution_count": null,
   "id": "ab07f520-475b-484e-95ec-0f4c145a5e50",
   "metadata": {},
   "outputs": [],
   "source": [
    "pip install boto3 pandas openpyxl xlrd gspread oauth2client"
   ]
  },
  {
   "cell_type": "code",
   "execution_count": 39,
   "id": "6d60fd06-7154-4dd2-9f3f-6185b3c60bba",
   "metadata": {},
   "outputs": [],
   "source": [
    "import pandas as pd\n",
    "import boto3\n",
    "import os\n",
    "from dotenv import load_dotenv\n",
    "import gspread\n",
    "from oauth2client.service_account import ServiceAccountCredentials\n",
    "from openpyxl import load_workbook"
   ]
  },
  {
   "cell_type": "code",
   "execution_count": 40,
   "id": "0cbe4106-3b50-4a02-b57e-51acd77b6c78",
   "metadata": {},
   "outputs": [
    {
     "data": {
      "text/plain": [
       "True"
      ]
     },
     "execution_count": 40,
     "metadata": {},
     "output_type": "execute_result"
    }
   ],
   "source": [
    "load_dotenv()"
   ]
  },
  {
   "cell_type": "code",
   "execution_count": 41,
   "id": "9f57f41f-28f7-4f60-b0d0-43a96823f9fc",
   "metadata": {},
   "outputs": [],
   "source": [
    "access_key = os.getenv(\"AWS_ACCESS_KEY_ID\")\n",
    "secret_key = os.getenv(\"AWS_SECRET_ACCESS_KEY\")\n",
    "BUCKET_NAME = os.getenv(\"BUCKET_NAME\")"
   ]
  },
  {
   "cell_type": "code",
   "execution_count": 42,
   "id": "b17ef815-f85b-43f7-a079-931720c4c263",
   "metadata": {},
   "outputs": [],
   "source": [
    "s3 = boto3.client(\n",
    "    \"s3\",\n",
    "    aws_access_key_id = access_key ,\n",
    "    aws_secret_access_key = secret_key \n",
    ")\n"
   ]
  },
  {
   "cell_type": "code",
   "execution_count": 43,
   "id": "596186f1-b88d-4b6c-8fb8-ef41b885fb7b",
   "metadata": {},
   "outputs": [],
   "source": [
    "def download_xl_file(bucket_name , s3_key , local_file) :\n",
    "    try :\n",
    "        s3.download_file(bucket_name , s3_key , local_file)\n",
    "        print (\"download success\")\n",
    "    except Exception as e :\n",
    "        print (f\"error : '{e}'\")"
   ]
  },
  {
   "cell_type": "code",
   "execution_count": 44,
   "id": "ebed5743-0da3-464e-9c1a-401e261224a3",
   "metadata": {},
   "outputs": [],
   "source": [
    "def upload_csv_file(bucket_name , s3_key , local_file) :\n",
    "    try :\n",
    "        s3.upload_file(local_file , bucket_name , s3_key)\n",
    "        print (\"upload success\")\n",
    "    except Exception as e :\n",
    "        print (f\"error : '{e}'\")"
   ]
  },
  {
   "cell_type": "code",
   "execution_count": 45,
   "id": "491d8743-caef-4031-bd8c-f189a302b371",
   "metadata": {},
   "outputs": [],
   "source": [
    "def empty_xl_file(xl_file) :\n",
    "    wb = load_workbook(xl_file)\n",
    "    ws = wb.active\n",
    "    if ws.max_row > 1 :\n",
    "        ws.delete_rows(2 , ws.max_row - 1)\n",
    "    wb.save(xl_file)"
   ]
  },
  {
   "cell_type": "code",
   "execution_count": 68,
   "id": "8cbcd504-ac22-4a53-839c-1a7158dadc46",
   "metadata": {},
   "outputs": [
    {
     "name": "stdout",
     "output_type": "stream",
     "text": [
      "download success\n"
     ]
    }
   ],
   "source": [
    "s3_key = \"sondagepublic/sondage.xlsx\"\n",
    "local_file = 'sondage.xlsx'\n",
    "download_xl_file(BUCKET_NAME , s3_key , local_file)"
   ]
  },
  {
   "cell_type": "code",
   "execution_count": 69,
   "id": "4983e12a-57c4-42f8-8e2b-c1e80a94d9ba",
   "metadata": {},
   "outputs": [
    {
     "name": "stdout",
     "output_type": "stream",
     "text": [
      "                          product  quantity        date  price_before  \\\n",
      "0                QMobile Noir A8i        19  03/04/2025          4.29   \n",
      "1    Lenovo Golden Warrior Note 8         2  11/12/2024          1.99   \n",
      "2       Xiaomi Redmi Y1 (Note 5A)        15  24/03/2025          1.99   \n",
      "3                QMobile Noir M90        17  01/04/2025          0.99   \n",
      "4                       Celkon A7        10  31/07/2024          4.99   \n",
      "..                            ...       ...         ...           ...   \n",
      "995                Micromax GC400        12  27/02/2025          6.49   \n",
      "996        Motorola Moto Z4 Force         3  02/04/2025         14.99   \n",
      "997                  Maxon MX-A30         7  23/08/2024         24.99   \n",
      "998                 Samsung E1125         6  11/03/2025          5.49   \n",
      "999            Acer Liquid Jade 2        18  14/06/2024          3.99   \n",
      "\n",
      "     price_after    prom_type gender  age  income  \n",
      "0          79.99          NaN  Femme   30    6668  \n",
      "1           2.29          NaN  Homme   26    5310  \n",
      "2           3.49     Gratuité  Homme   54    7558  \n",
      "3          22.99  Bon d'achat  Homme   47     310  \n",
      "4          12.99          NaN  Femme   32    3683  \n",
      "..           ...          ...    ...  ...     ...  \n",
      "995         3.79  Bon d'achat  Femme   21    5863  \n",
      "996         4.99  Bon d'achat  Homme   15    4029  \n",
      "997        19.99    Réduction  Femme   17     943  \n",
      "998         6.49  Bon d'achat  Homme   56    8488  \n",
      "999         2.49  Bon d'achat  Homme   42    3577  \n",
      "\n",
      "[1000 rows x 9 columns]\n"
     ]
    }
   ],
   "source": [
    "data = pd.read_excel(local_file , engine = \"openpyxl\")\n",
    "print(data)"
   ]
  },
  {
   "cell_type": "code",
   "execution_count": 48,
   "id": "6e159804-4b4c-46b1-9e56-8660fdfa0f98",
   "metadata": {},
   "outputs": [],
   "source": [
    "def delete_empty_row_col(df) :\n",
    "    df.dropna(how = 'all' , inplace = True)\n",
    "    df.dropna(axis=1 , how = 'all' , inplace = True)\n"
   ]
  },
  {
   "cell_type": "code",
   "execution_count": 49,
   "id": "0580e609-92b4-43d9-bd5a-043e0cd8ef82",
   "metadata": {},
   "outputs": [],
   "source": [
    "def rename_col(df) :\n",
    "    df.columns = df.columns.str.strip().str.lower().str.replace(' ','_')"
   ]
  },
  {
   "cell_type": "code",
   "execution_count": 50,
   "id": "374943bc-d8d9-4080-a0a1-1430b83df759",
   "metadata": {},
   "outputs": [],
   "source": [
    "def delete_duplicate(df) :\n",
    "    df.drop_duplicates(inplace=True)"
   ]
  },
  {
   "cell_type": "code",
   "execution_count": 51,
   "id": "6c046b34-0707-4127-a3df-4f8fb2d72881",
   "metadata": {},
   "outputs": [],
   "source": [
    "def replace_product(df) :\n",
    "    df[\"product\"] = df[\"product\"].fillna(\"unknown\")\n"
   ]
  },
  {
   "cell_type": "code",
   "execution_count": 52,
   "id": "c52610da-7293-4f3d-a48c-64e2fc8c4436",
   "metadata": {},
   "outputs": [],
   "source": [
    "def replace_qty(df) :\n",
    "    df[\"quantity\"] = df[\"quantity\"].fillna(1) "
   ]
  },
  {
   "cell_type": "code",
   "execution_count": 53,
   "id": "e043b3dc-21a5-4ab2-a21e-5c0c40b64484",
   "metadata": {},
   "outputs": [],
   "source": [
    "def ajust_prices(df) :\n",
    "    df.dropna(subset=[\"price_before\"] , inplace=True)\n",
    "    df.dropna(subset=[\"price_after\"] , inplace = True)\n",
    "    before = df[\"price_before\"]\n",
    "    after = df[\"price_after\"]\n",
    "    mask = df[\"price_after\"] > df[\"price_before\"]\n",
    "    temp = df.loc[mask, \"price_before\"].copy()\n",
    "    df.loc[mask, \"price_before\"] = df.loc[mask, \"price_after\"]\n",
    "    df.loc[mask, \"price_after\"] = temp"
   ]
  },
  {
   "cell_type": "code",
   "execution_count": 70,
   "id": "e663da85-fce5-45af-bbbc-a16a8e33e4aa",
   "metadata": {},
   "outputs": [],
   "source": [
    "data = data[data['prom_type'].notna() & (data['prom_type'] != '')]\n",
    "delete_empty_row_col(data)\n",
    "rename_col(data) \n",
    "delete_duplicate(data)\n",
    "replace_product(data)\n",
    "replace_qty(data)\n",
    "ajust_prices(data)"
   ]
  },
  {
   "cell_type": "code",
   "execution_count": 71,
   "id": "33837b9f-aa3c-4b7b-8f94-f8de51950ffe",
   "metadata": {},
   "outputs": [],
   "source": [
    "data.to_csv('clean_data.csv' , index=False)"
   ]
  },
  {
   "cell_type": "code",
   "execution_count": 72,
   "id": "5b666ccb-8e55-498f-9d69-2ed9a6759949",
   "metadata": {},
   "outputs": [
    {
     "name": "stdout",
     "output_type": "stream",
     "text": [
      "upload success\n"
     ]
    }
   ],
   "source": [
    "upload_csv_file(BUCKET_NAME , \"sondagepublic/clean_sondage.csv\" , \"clean_data.csv\")"
   ]
  },
  {
   "cell_type": "code",
   "execution_count": 57,
   "id": "723431e6-1547-4878-b351-9dcfbea7d7b4",
   "metadata": {},
   "outputs": [
    {
     "name": "stdout",
     "output_type": "stream",
     "text": [
      "                    product  quantity        date  price_before  price_after  \\\n",
      "0    Vodafone V860 Smart II         4  09/05/2024          4.99         3.49   \n",
      "1                  Meizu V8        15  15/05/2024        149.99         5.59   \n",
      "2         Micromax Canvas 1         4  18/10/2024          6.49         3.49   \n",
      "3            alcatel OT-310         8  23/05/2024         39.99        24.99   \n",
      "4               Siemens C35        18  26/02/2025         24.99         2.29   \n",
      "..                      ...       ...         ...           ...          ...   \n",
      "995          verykool i121C         5  05/09/2024          7.99         7.49   \n",
      "996      Micromax Bolt Q339        18  16/01/2025         44.99        19.99   \n",
      "997            QMobile B800         9  26/01/2025         45.00        39.99   \n",
      "998              Wiko Robby         9  23/01/2025         99.99        25.99   \n",
      "999       Kyocera DuraForce        13  01/01/2025         39.99        14.99   \n",
      "\n",
      "         prom_type gender  income  \n",
      "0              NaN  Homme    8810  \n",
      "1              NaN  Femme       8  \n",
      "2        Réduction  Homme    5178  \n",
      "3    Offre groupée  Femme    9824  \n",
      "4      Bon d'achat  Femme    4874  \n",
      "..             ...    ...     ...  \n",
      "995      Réduction  Homme     846  \n",
      "996       Gratuité  Homme    7765  \n",
      "997    Bon d'achat  Homme    7733  \n",
      "998      Réduction  Homme    6546  \n",
      "999       Gratuité  Homme     262  \n",
      "\n",
      "[1000 rows x 8 columns]\n"
     ]
    }
   ],
   "source": [
    "print(data)"
   ]
  },
  {
   "cell_type": "code",
   "execution_count": 58,
   "id": "d2f599cc-137d-4d97-b0c0-45b40e19be79",
   "metadata": {},
   "outputs": [
    {
     "name": "stdout",
     "output_type": "stream",
     "text": [
      "                    product  quantity        date  price_before  price_after  \\\n",
      "0    Vodafone V860 Smart II         4  09/05/2024          4.99         3.49   \n",
      "1                  Meizu V8        15  15/05/2024        149.99         5.59   \n",
      "2         Micromax Canvas 1         4  18/10/2024          6.49         3.49   \n",
      "3            alcatel OT-310         8  23/05/2024         39.99        24.99   \n",
      "4               Siemens C35        18  26/02/2025         24.99         2.29   \n",
      "..                      ...       ...         ...           ...          ...   \n",
      "995          verykool i121C         5  05/09/2024          7.99         7.49   \n",
      "996      Micromax Bolt Q339        18  16/01/2025         44.99        19.99   \n",
      "997            QMobile B800         9  26/01/2025         45.00        39.99   \n",
      "998              Wiko Robby         9  23/01/2025         99.99        25.99   \n",
      "999       Kyocera DuraForce        13  01/01/2025         39.99        14.99   \n",
      "\n",
      "         prom_type gender  income  \n",
      "0              NaN  Homme    8810  \n",
      "1              NaN  Femme       8  \n",
      "2        Réduction  Homme    5178  \n",
      "3    Offre groupée  Femme    9824  \n",
      "4      Bon d'achat  Femme    4874  \n",
      "..             ...    ...     ...  \n",
      "995      Réduction  Homme     846  \n",
      "996       Gratuité  Homme    7765  \n",
      "997    Bon d'achat  Homme    7733  \n",
      "998      Réduction  Homme    6546  \n",
      "999       Gratuité  Homme     262  \n",
      "\n",
      "[1000 rows x 8 columns]\n"
     ]
    }
   ],
   "source": [
    "print(data)"
   ]
  },
  {
   "cell_type": "code",
   "execution_count": null,
   "id": "c5299af9-6a49-4319-8e56-89ceab215444",
   "metadata": {},
   "outputs": [],
   "source": [
    "scope = [\"https://spreadsheets.google.com/feeds\", \"https://www.googleapis.com/auth/drive\"]\n",
    "creds = ServiceAccountCredentials.from_json_keyfile_name('sheet_secret.json', scope)\n",
    "client = gspread.authorize(creds)\n",
    "spreadsheet = client.open(\"analyse\") \n",
    "worksheet = spreadsheet.sheet1\n",
    "for row in data.values.tolist():\n",
    "    worksheet.append_row(row)\n",
    "\n",
    "print(\"Les données ont été téléchargées dans Google Sheets.\")"
   ]
  },
  {
   "cell_type": "code",
   "execution_count": 75,
   "id": "8e06b013-e9b4-4a99-b89b-6a7a6ea7f6da",
   "metadata": {},
   "outputs": [
    {
     "name": "stdout",
     "output_type": "stream",
     "text": [
      "upload success\n"
     ]
    }
   ],
   "source": [
    "path = \"sondage.xlsx\"\n",
    "empty_xl_file('sondage.xlsx')\n",
    "upload_csv_file(BUCKET_NAME , \"sondagepublic/sondage.xlsx\" , path)"
   ]
  }
 ],
 "metadata": {
  "kernelspec": {
   "display_name": "Python 3 (ipykernel)",
   "language": "python",
   "name": "python3"
  },
  "language_info": {
   "codemirror_mode": {
    "name": "ipython",
    "version": 3
   },
   "file_extension": ".py",
   "mimetype": "text/x-python",
   "name": "python",
   "nbconvert_exporter": "python",
   "pygments_lexer": "ipython3",
   "version": "3.12.3"
  }
 },
 "nbformat": 4,
 "nbformat_minor": 5
}
