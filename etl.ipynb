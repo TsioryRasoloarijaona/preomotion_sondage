{
 "cells": [
  {
   "cell_type": "code",
   "execution_count": null,
   "id": "ab07f520-475b-484e-95ec-0f4c145a5e50",
   "metadata": {},
   "outputs": [],
   "source": [
    "#install all dependences\n",
    "pip install boto3 pandas openpyxl xlrd gspread oauth2client"
   ]
  },
  {
   "cell_type": "code",
   "execution_count": 427,
   "id": "6d60fd06-7154-4dd2-9f3f-6185b3c60bba",
   "metadata": {},
   "outputs": [],
   "source": [
    "#all imports\n",
    "import pandas as pd\n",
    "import boto3\n",
    "import os\n",
    "from dotenv import load_dotenv\n",
    "import gspread\n",
    "from oauth2client.service_account import ServiceAccountCredentials\n",
    "from openpyxl import load_workbook"
   ]
  },
  {
   "cell_type": "code",
   "execution_count": 428,
   "id": "0cbe4106-3b50-4a02-b57e-51acd77b6c78",
   "metadata": {},
   "outputs": [
    {
     "data": {
      "text/plain": [
       "True"
      ]
     },
     "execution_count": 428,
     "metadata": {},
     "output_type": "execute_result"
    }
   ],
   "source": [
    "#loading the function to load all variable\n",
    "load_dotenv()"
   ]
  },
  {
   "cell_type": "code",
   "execution_count": 429,
   "id": "9f57f41f-28f7-4f60-b0d0-43a96823f9fc",
   "metadata": {},
   "outputs": [],
   "source": [
    "#get all access key to get the xlsx file on aws S3\n",
    "access_key = os.getenv(\"AWS_ACCESS_KEY_ID\")\n",
    "secret_key = os.getenv(\"AWS_SECRET_ACCESS_KEY\")\n",
    "BUCKET_NAME = os.getenv(\"BUCKET_NAME\")"
   ]
  },
  {
   "cell_type": "code",
   "execution_count": 430,
   "id": "b17ef815-f85b-43f7-a079-931720c4c263",
   "metadata": {},
   "outputs": [],
   "source": [
    "#initialise the connection on aws S3\n",
    "s3 = boto3.client(\n",
    "    \"s3\",\n",
    "    aws_access_key_id = access_key ,\n",
    "    aws_secret_access_key = secret_key \n",
    ")\n"
   ]
  },
  {
   "cell_type": "code",
   "execution_count": 431,
   "id": "596186f1-b88d-4b6c-8fb8-ef41b885fb7b",
   "metadata": {},
   "outputs": [],
   "source": [
    "#function to download the file from aws s3\n",
    "def download_xl_file(bucket_name , s3_key , local_file) :\n",
    "    try :\n",
    "        s3.download_file(bucket_name , s3_key , local_file)\n",
    "        print (\"download success\")\n",
    "    except Exception as e :\n",
    "        print (f\"error : '{e}'\")"
   ]
  },
  {
   "cell_type": "code",
   "execution_count": 432,
   "id": "ebed5743-0da3-464e-9c1a-401e261224a3",
   "metadata": {},
   "outputs": [],
   "source": [
    "#function to apload a file on aws s3\n",
    "def upload_csv_file(bucket_name , s3_key , local_file) :\n",
    "    try :\n",
    "        s3.upload_file(local_file , bucket_name , s3_key)\n",
    "        print (\"upload success\")\n",
    "    except Exception as e :\n",
    "        print (f\"error : '{e}'\")"
   ]
  },
  {
   "cell_type": "code",
   "execution_count": 433,
   "id": "491d8743-caef-4031-bd8c-f189a302b371",
   "metadata": {},
   "outputs": [],
   "source": [
    "#empty all xl file rows\n",
    "def empty_xl_file(xl_file) :\n",
    "    wb = load_workbook(xl_file)\n",
    "    ws = wb.active\n",
    "    if ws.max_row > 1 :\n",
    "        ws.delete_rows(2 , ws.max_row - 1)\n",
    "    wb.save(xl_file)"
   ]
  },
  {
   "cell_type": "code",
   "execution_count": 434,
   "id": "8cbcd504-ac22-4a53-839c-1a7158dadc46",
   "metadata": {},
   "outputs": [
    {
     "name": "stdout",
     "output_type": "stream",
     "text": [
      "download success\n"
     ]
    }
   ],
   "source": [
    "#calling the function to download file from aws to load the data\n",
    "s3_key = \"sondagepublic/sondage.xlsx\"\n",
    "local_file = 'sondage.xlsx'\n",
    "download_xl_file(BUCKET_NAME , s3_key , local_file)"
   ]
  },
  {
   "cell_type": "code",
   "execution_count": 435,
   "id": "4983e12a-57c4-42f8-8e2b-c1e80a94d9ba",
   "metadata": {},
   "outputs": [
    {
     "name": "stdout",
     "output_type": "stream",
     "text": [
      "     product  quantity        date  price_before  price_after      prom_type  \\\n",
      "0  chaussure        12  2025-04-15           120          200  offre grouper   \n",
      "\n",
      "  gender  age  income  \n",
      "0  homme   22    1000  \n"
     ]
    }
   ],
   "source": [
    "#transform the xl file to data frame\n",
    "data = pd.read_excel(local_file , engine = \"openpyxl\")\n",
    "print(data)"
   ]
  },
  {
   "cell_type": "markdown",
   "id": "f83efe1e-5e87-4eea-9ea5-90dae4020d27",
   "metadata": {},
   "source": [
    "### these are the following step for cleaning\n",
    "* delete a row or a column wich is totaly empty\n",
    "* rename all columns name : replace the space by '_' , convert all to lower case\n",
    "* delete all duplicate data\n",
    "* reformat all columns data "
   ]
  },
  {
   "cell_type": "code",
   "execution_count": 436,
   "id": "6e159804-4b4c-46b1-9e56-8660fdfa0f98",
   "metadata": {},
   "outputs": [],
   "source": [
    "\n",
    "def delete_empty_row_col(df) :\n",
    "    df.dropna(how = 'all' , inplace = True)\n",
    "    df.dropna(axis=1 , how = 'all' , inplace = True)\n"
   ]
  },
  {
   "cell_type": "code",
   "execution_count": 437,
   "id": "0580e609-92b4-43d9-bd5a-043e0cd8ef82",
   "metadata": {},
   "outputs": [],
   "source": [
    "def rename_col(df) :\n",
    "    df.columns = df.columns.str.strip().str.lower().str.replace(' ','_')"
   ]
  },
  {
   "cell_type": "code",
   "execution_count": 438,
   "id": "374943bc-d8d9-4080-a0a1-1430b83df759",
   "metadata": {},
   "outputs": [],
   "source": [
    "def delete_duplicate(df) :\n",
    "    df.drop_duplicates(inplace=True)"
   ]
  },
  {
   "cell_type": "code",
   "execution_count": 439,
   "id": "48b761c2-7ce3-470f-92a3-141226919455",
   "metadata": {},
   "outputs": [
    {
     "name": "stdout",
     "output_type": "stream",
     "text": [
      "<bound method DataFrame.prod of      product  quantity        date  price_before  price_after      prom_type  \\\n",
      "0  chaussure        12  2025-04-15           120          200  offre grouper   \n",
      "\n",
      "  gender  age  income  \n",
      "0  homme   22    1000  >\n"
     ]
    }
   ],
   "source": [
    "print(data.product)"
   ]
  },
  {
   "cell_type": "code",
   "execution_count": 440,
   "id": "305784ec-9fcd-48b2-a170-e887b3aab9b6",
   "metadata": {},
   "outputs": [
    {
     "name": "stdout",
     "output_type": "stream",
     "text": [
      "Index(['product', 'quantity', 'date', 'price_before', 'price_after',\n",
      "       'prom_type', 'gender', 'age', 'income'],\n",
      "      dtype='object')\n"
     ]
    }
   ],
   "source": [
    "print(data.columns)"
   ]
  },
  {
   "cell_type": "code",
   "execution_count": 441,
   "id": "6c046b34-0707-4127-a3df-4f8fb2d72881",
   "metadata": {},
   "outputs": [],
   "source": [
    "def replace_product(df) :\n",
    "    if len(df) != 0 :\n",
    "        df[\"product\"] = df[\"product\"].fillna(\"unknown\")\n",
    "    return df"
   ]
  },
  {
   "cell_type": "code",
   "execution_count": 442,
   "id": "06717b5f-0c8d-4213-8de3-c0bd51474a8a",
   "metadata": {},
   "outputs": [
    {
     "name": "stdout",
     "output_type": "stream",
     "text": [
      "Index(['product', 'quantity', 'date', 'price_before', 'price_after',\n",
      "       'prom_type', 'gender', 'age', 'income'],\n",
      "      dtype='object')\n"
     ]
    }
   ],
   "source": [
    "print(data.columns)"
   ]
  },
  {
   "cell_type": "code",
   "execution_count": 443,
   "id": "c52610da-7293-4f3d-a48c-64e2fc8c4436",
   "metadata": {},
   "outputs": [],
   "source": [
    "def replace_qty(df) :\n",
    "    df[\"quantity\"] = df[\"quantity\"].fillna(1) \n",
    "    return df"
   ]
  },
  {
   "cell_type": "markdown",
   "id": "68b7d371-49da-4f34-aa05-b5e61f92e26e",
   "metadata": {},
   "source": [
    "### prices ajustment\n",
    "there are two prices columns : before the promotion and after the promotion , normaly the price before should be higher than the price during the promotion there could be a possibility that the customer have reverse the two value so this function ajust it by reversing the values on right way"
   ]
  },
  {
   "cell_type": "code",
   "execution_count": 444,
   "id": "e043b3dc-21a5-4ab2-a21e-5c0c40b64484",
   "metadata": {},
   "outputs": [],
   "source": [
    "\n",
    "def ajust_prices(df) :\n",
    "    df.dropna(subset=[\"price_before\"] , inplace=True)\n",
    "    df.dropna(subset=[\"price_after\"] , inplace = True)\n",
    "    before = df[\"price_before\"]\n",
    "    after = df[\"price_after\"]\n",
    "    mask = df[\"price_after\"] > df[\"price_before\"]\n",
    "    temp = df.loc[mask, \"price_before\"].copy()\n",
    "    df.loc[mask, \"price_before\"] = df.loc[mask, \"price_after\"]\n",
    "    df.loc[mask, \"price_after\"] = temp"
   ]
  },
  {
   "cell_type": "code",
   "execution_count": 445,
   "id": "a5b2c373-6e37-4587-94b6-0f4758fb1abb",
   "metadata": {},
   "outputs": [],
   "source": [
    "def put_lower_case(df) :\n",
    "    df[\"product\"] = df[\"product\"].astype(str).str.lower()\n",
    "    df[\"prom_type\"] = df[\"prom_type\"].astype(str).str.lower()\n",
    "    df[\"gender\"] = df[\"gender\"].astype(str).str.lower()"
   ]
  },
  {
   "cell_type": "code",
   "execution_count": 446,
   "id": "2a840ad0-647c-40dc-b6ed-73d9478d6f69",
   "metadata": {},
   "outputs": [
    {
     "name": "stdout",
     "output_type": "stream",
     "text": [
      "Index(['product', 'quantity', 'date', 'price_before', 'price_after',\n",
      "       'prom_type', 'gender', 'age', 'income'],\n",
      "      dtype='object')\n"
     ]
    }
   ],
   "source": [
    "print(data.columns)"
   ]
  },
  {
   "cell_type": "code",
   "execution_count": 447,
   "id": "cd8f11dd-20e9-4958-b502-ffd19e5d6417",
   "metadata": {},
   "outputs": [],
   "source": [
    "def delete_promo_type(df) :\n",
    "    df.drop(df[df[\"prom_type\"].isna() | (df[\"prom_type\"] == \"\")].index, inplace=True)"
   ]
  },
  {
   "cell_type": "code",
   "execution_count": 448,
   "id": "1a2743ce-6518-4913-9d76-5dcf1a5e3677",
   "metadata": {},
   "outputs": [
    {
     "name": "stdout",
     "output_type": "stream",
     "text": [
      "0    offre grouper\n",
      "Name: prom_type, dtype: object\n"
     ]
    }
   ],
   "source": [
    "print(data.prom_type)"
   ]
  },
  {
   "cell_type": "code",
   "execution_count": 449,
   "id": "c5299af9-6a49-4319-8e56-89ceab215444",
   "metadata": {},
   "outputs": [],
   "source": [
    "def write_xl_file(file , df) :\n",
    "    scope = [\"https://spreadsheets.google.com/feeds\", \"https://www.googleapis.com/auth/drive\"]\n",
    "    creds = ServiceAccountCredentials.from_json_keyfile_name('sheet_secret.json', scope)\n",
    "    client = gspread.authorize(creds)\n",
    "    spreadsheet = client.open(file) \n",
    "    worksheet = spreadsheet.sheet1\n",
    "    for row in df.values.tolist():\n",
    "        worksheet.append_row(row)\n",
    "\n",
    "    print(\"Les données ont été téléchargées dans Google Sheets.\")"
   ]
  },
  {
   "cell_type": "code",
   "execution_count": 450,
   "id": "2dd6b91d-09e6-4ae2-b822-36fd2008971d",
   "metadata": {},
   "outputs": [],
   "source": [
    "def delete_sondage_data() :\n",
    "    path = \"sondage.xlsx\"\n",
    "    empty_xl_file('sondage.xlsx')\n",
    "    upload_csv_file(BUCKET_NAME , \"sondagepublic/sondage.xlsx\" , path)"
   ]
  },
  {
   "cell_type": "markdown",
   "id": "21971b98-fbbf-4c2f-9574-62193005afd9",
   "metadata": {},
   "source": [
    "after checking if there is a new data call the functons for cleaning prossess and then empty the file "
   ]
  },
  {
   "cell_type": "code",
   "execution_count": 451,
   "id": "9787a55a-c36b-4084-8d1e-cb781f4317e8",
   "metadata": {},
   "outputs": [
    {
     "name": "stdout",
     "output_type": "stream",
     "text": [
      "Les données ont été téléchargées dans Google Sheets.\n",
      "upload success\n"
     ]
    }
   ],
   "source": [
    "if len(data) != 0 :\n",
    "    put_lower_case(data)\n",
    "    delete_promo_type(data)\n",
    "    delete_empty_row_col(data)\n",
    "    rename_col(data) \n",
    "    delete_duplicate(data)\n",
    "    replace_product(data)\n",
    "    replace_qty(data)\n",
    "    ajust_prices(data)\n",
    "    data.to_csv('clean_data.csv' , index=False)\n",
    "    write_xl_file(\"analyse\" , data)\n",
    "    delete_sondage_data()"
   ]
  },
  {
   "cell_type": "code",
   "execution_count": 452,
   "id": "723431e6-1547-4878-b351-9dcfbea7d7b4",
   "metadata": {},
   "outputs": [
    {
     "name": "stdout",
     "output_type": "stream",
     "text": [
      "     product  quantity        date  price_before  price_after      prom_type  \\\n",
      "0  chaussure        12  2025-04-15           200          120  offre grouper   \n",
      "\n",
      "  gender  age  income  \n",
      "0  homme   22    1000  \n"
     ]
    }
   ],
   "source": [
    "print(data)"
   ]
  }
 ],
 "metadata": {
  "kernelspec": {
   "display_name": "Python 3 (ipykernel)",
   "language": "python",
   "name": "python3"
  },
  "language_info": {
   "codemirror_mode": {
    "name": "ipython",
    "version": 3
   },
   "file_extension": ".py",
   "mimetype": "text/x-python",
   "name": "python",
   "nbconvert_exporter": "python",
   "pygments_lexer": "ipython3",
   "version": "3.12.3"
  }
 },
 "nbformat": 4,
 "nbformat_minor": 5
}
