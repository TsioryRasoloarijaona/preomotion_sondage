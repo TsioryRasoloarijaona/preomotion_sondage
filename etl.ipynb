{
 "cells": [
  {
   "cell_type": "code",
   "execution_count": null,
   "id": "45c116c5-0ca5-4d41-bf1d-dfd0607dab17",
   "metadata": {},
   "outputs": [],
   "source": [
    "pip install boto3 pandas openpyxl xlrd"
   ]
  },
  {
   "cell_type": "code",
   "execution_count": 6,
   "id": "6d60fd06-7154-4dd2-9f3f-6185b3c60bba",
   "metadata": {},
   "outputs": [],
   "source": [
    "import pandas as pd\n",
    "import boto3\n",
    "import os\n",
    "from dotenv import load_dotenv"
   ]
  },
  {
   "cell_type": "code",
   "execution_count": 4,
   "id": "0cbe4106-3b50-4a02-b57e-51acd77b6c78",
   "metadata": {},
   "outputs": [
    {
     "data": {
      "text/plain": [
       "True"
      ]
     },
     "execution_count": 4,
     "metadata": {},
     "output_type": "execute_result"
    }
   ],
   "source": [
    "load_dotenv()"
   ]
  },
  {
   "cell_type": "code",
   "execution_count": 15,
   "id": "9f57f41f-28f7-4f60-b0d0-43a96823f9fc",
   "metadata": {},
   "outputs": [],
   "source": [
    "access_key = os.getenv(\"AWS_ACCESS_KEY_ID\")\n",
    "secret_key = os.getenv(\"AWS_SECRET_ACCESS_KEY\")\n",
    "BUCKET_NAME = os.getenv(\"BUCKET_NAME\")"
   ]
  },
  {
   "cell_type": "code",
   "execution_count": 16,
   "id": "b17ef815-f85b-43f7-a079-931720c4c263",
   "metadata": {},
   "outputs": [],
   "source": [
    "s3 = boto3.client(\n",
    "    \"s3\",\n",
    "    aws_access_key_id = access_key ,\n",
    "    aws_secret_access_key = secret_key \n",
    ")\n"
   ]
  },
  {
   "cell_type": "code",
   "execution_count": 19,
   "id": "596186f1-b88d-4b6c-8fb8-ef41b885fb7b",
   "metadata": {},
   "outputs": [],
   "source": [
    "def download_xl_file(bucket_name , s3_key , local_file) :\n",
    "    try :\n",
    "        s3.download_file(bucket_name , s3_key , local_file)\n",
    "        print (\"download success\")\n",
    "    except Exception as e :\n",
    "        print (f\"error : '{e}'\")"
   ]
  },
  {
   "cell_type": "code",
   "execution_count": 22,
   "id": "8cbcd504-ac22-4a53-839c-1a7158dadc46",
   "metadata": {},
   "outputs": [
    {
     "name": "stdout",
     "output_type": "stream",
     "text": [
      "download success\n"
     ]
    }
   ],
   "source": [
    "s3_key = \"sondagepublic/sondage.xlsx\"\n",
    "local_file = os.path.expanduser('~/Documents/projects/data_marketing/sondage.xlsx')\n",
    "download_xl_file(BUCKET_NAME , s3_key , local_file)"
   ]
  },
  {
   "cell_type": "code",
   "execution_count": 25,
   "id": "4983e12a-57c4-42f8-8e2b-c1e80a94d9ba",
   "metadata": {},
   "outputs": [
    {
     "name": "stdout",
     "output_type": "stream",
     "text": [
      "Index(['product', 'quantity', 'date', 'price_before', 'price_after',\n",
      "       'prom_type', 'gender', 'age', 'income'],\n",
      "      dtype='object')\n"
     ]
    }
   ],
   "source": [
    "data = pd.read_excel(local_file , engine = \"openpyxl\")\n",
    "print(data.columns)"
   ]
  }
 ],
 "metadata": {
  "kernelspec": {
   "display_name": "Python 3 (ipykernel)",
   "language": "python",
   "name": "python3"
  },
  "language_info": {
   "codemirror_mode": {
    "name": "ipython",
    "version": 3
   },
   "file_extension": ".py",
   "mimetype": "text/x-python",
   "name": "python",
   "nbconvert_exporter": "python",
   "pygments_lexer": "ipython3",
   "version": "3.12.3"
  }
 },
 "nbformat": 4,
 "nbformat_minor": 5
}
