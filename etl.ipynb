{
 "cells": [
  {
   "cell_type": "code",
   "execution_count": 34,
   "id": "45c116c5-0ca5-4d41-bf1d-dfd0607dab17",
   "metadata": {},
   "outputs": [
    {
     "name": "stdout",
     "output_type": "stream",
     "text": [
      "Requirement already satisfied: boto3 in /home/tsiory/notebook/lib/python3.12/site-packages (1.37.35)\n",
      "Requirement already satisfied: pandas in /home/tsiory/notebook/lib/python3.12/site-packages (2.2.3)\n",
      "Requirement already satisfied: openpyxl in /home/tsiory/notebook/lib/python3.12/site-packages (3.1.5)\n",
      "Requirement already satisfied: xlrd in /home/tsiory/notebook/lib/python3.12/site-packages (2.0.1)\n",
      "Requirement already satisfied: gspread in /home/tsiory/notebook/lib/python3.12/site-packages (6.2.0)\n",
      "Requirement already satisfied: oauth2client in /home/tsiory/notebook/lib/python3.12/site-packages (4.1.3)\n",
      "Requirement already satisfied: botocore<1.38.0,>=1.37.35 in /home/tsiory/notebook/lib/python3.12/site-packages (from boto3) (1.37.35)\n",
      "Requirement already satisfied: jmespath<2.0.0,>=0.7.1 in /home/tsiory/notebook/lib/python3.12/site-packages (from boto3) (1.0.1)\n",
      "Requirement already satisfied: s3transfer<0.12.0,>=0.11.0 in /home/tsiory/notebook/lib/python3.12/site-packages (from boto3) (0.11.4)\n",
      "Requirement already satisfied: numpy>=1.26.0 in /home/tsiory/notebook/lib/python3.12/site-packages (from pandas) (2.2.4)\n",
      "Requirement already satisfied: python-dateutil>=2.8.2 in /home/tsiory/notebook/lib/python3.12/site-packages (from pandas) (2.9.0.post0)\n",
      "Requirement already satisfied: pytz>=2020.1 in /home/tsiory/notebook/lib/python3.12/site-packages (from pandas) (2025.2)\n",
      "Requirement already satisfied: tzdata>=2022.7 in /home/tsiory/notebook/lib/python3.12/site-packages (from pandas) (2025.2)\n",
      "Requirement already satisfied: et-xmlfile in /home/tsiory/notebook/lib/python3.12/site-packages (from openpyxl) (2.0.0)\n",
      "Requirement already satisfied: google-auth>=1.12.0 in /home/tsiory/notebook/lib/python3.12/site-packages (from gspread) (2.39.0)\n",
      "Requirement already satisfied: google-auth-oauthlib>=0.4.1 in /home/tsiory/notebook/lib/python3.12/site-packages (from gspread) (1.2.1)\n",
      "Requirement already satisfied: httplib2>=0.9.1 in /home/tsiory/notebook/lib/python3.12/site-packages (from oauth2client) (0.22.0)\n",
      "Requirement already satisfied: pyasn1>=0.1.7 in /home/tsiory/notebook/lib/python3.12/site-packages (from oauth2client) (0.6.1)\n",
      "Requirement already satisfied: pyasn1-modules>=0.0.5 in /home/tsiory/notebook/lib/python3.12/site-packages (from oauth2client) (0.4.2)\n",
      "Requirement already satisfied: rsa>=3.1.4 in /home/tsiory/notebook/lib/python3.12/site-packages (from oauth2client) (4.9.1)\n",
      "Requirement already satisfied: six>=1.6.1 in /home/tsiory/notebook/lib/python3.12/site-packages (from oauth2client) (1.17.0)\n",
      "Requirement already satisfied: urllib3!=2.2.0,<3,>=1.25.4 in /home/tsiory/notebook/lib/python3.12/site-packages (from botocore<1.38.0,>=1.37.35->boto3) (2.4.0)\n",
      "Requirement already satisfied: cachetools<6.0,>=2.0.0 in /home/tsiory/notebook/lib/python3.12/site-packages (from google-auth>=1.12.0->gspread) (5.5.2)\n",
      "Requirement already satisfied: requests-oauthlib>=0.7.0 in /home/tsiory/notebook/lib/python3.12/site-packages (from google-auth-oauthlib>=0.4.1->gspread) (2.0.0)\n",
      "Requirement already satisfied: pyparsing!=3.0.0,!=3.0.1,!=3.0.2,!=3.0.3,<4,>=2.4.2 in /home/tsiory/notebook/lib/python3.12/site-packages (from httplib2>=0.9.1->oauth2client) (3.2.3)\n",
      "Requirement already satisfied: oauthlib>=3.0.0 in /home/tsiory/notebook/lib/python3.12/site-packages (from requests-oauthlib>=0.7.0->google-auth-oauthlib>=0.4.1->gspread) (3.2.2)\n",
      "Requirement already satisfied: requests>=2.0.0 in /home/tsiory/notebook/lib/python3.12/site-packages (from requests-oauthlib>=0.7.0->google-auth-oauthlib>=0.4.1->gspread) (2.32.3)\n",
      "Requirement already satisfied: charset-normalizer<4,>=2 in /home/tsiory/notebook/lib/python3.12/site-packages (from requests>=2.0.0->requests-oauthlib>=0.7.0->google-auth-oauthlib>=0.4.1->gspread) (3.4.1)\n",
      "Requirement already satisfied: idna<4,>=2.5 in /home/tsiory/notebook/lib/python3.12/site-packages (from requests>=2.0.0->requests-oauthlib>=0.7.0->google-auth-oauthlib>=0.4.1->gspread) (3.10)\n",
      "Requirement already satisfied: certifi>=2017.4.17 in /home/tsiory/notebook/lib/python3.12/site-packages (from requests>=2.0.0->requests-oauthlib>=0.7.0->google-auth-oauthlib>=0.4.1->gspread) (2025.1.31)\n",
      "Note: you may need to restart the kernel to use updated packages.\n"
     ]
    }
   ],
   "source": [
    "pip install boto3 pandas openpyxl xlrd gspread oauth2client"
   ]
  },
  {
   "cell_type": "code",
   "execution_count": 35,
   "id": "6d60fd06-7154-4dd2-9f3f-6185b3c60bba",
   "metadata": {},
   "outputs": [],
   "source": [
    "import pandas as pd\n",
    "import boto3\n",
    "import os\n",
    "from dotenv import load_dotenv\n",
    "import gspread\n",
    "from oauth2client.service_account import ServiceAccountCredentials"
   ]
  },
  {
   "cell_type": "code",
   "execution_count": 36,
   "id": "0cbe4106-3b50-4a02-b57e-51acd77b6c78",
   "metadata": {},
   "outputs": [
    {
     "data": {
      "text/plain": [
       "True"
      ]
     },
     "execution_count": 36,
     "metadata": {},
     "output_type": "execute_result"
    }
   ],
   "source": [
    "load_dotenv()"
   ]
  },
  {
   "cell_type": "code",
   "execution_count": 37,
   "id": "9f57f41f-28f7-4f60-b0d0-43a96823f9fc",
   "metadata": {},
   "outputs": [],
   "source": [
    "access_key = os.getenv(\"AWS_ACCESS_KEY_ID\")\n",
    "secret_key = os.getenv(\"AWS_SECRET_ACCESS_KEY\")\n",
    "BUCKET_NAME = os.getenv(\"BUCKET_NAME\")"
   ]
  },
  {
   "cell_type": "code",
   "execution_count": 38,
   "id": "b17ef815-f85b-43f7-a079-931720c4c263",
   "metadata": {},
   "outputs": [],
   "source": [
    "s3 = boto3.client(\n",
    "    \"s3\",\n",
    "    aws_access_key_id = access_key ,\n",
    "    aws_secret_access_key = secret_key \n",
    ")\n"
   ]
  },
  {
   "cell_type": "code",
   "execution_count": 39,
   "id": "596186f1-b88d-4b6c-8fb8-ef41b885fb7b",
   "metadata": {},
   "outputs": [],
   "source": [
    "def download_xl_file(bucket_name , s3_key , local_file) :\n",
    "    try :\n",
    "        s3.download_file(bucket_name , s3_key , local_file)\n",
    "        print (\"download success\")\n",
    "    except Exception as e :\n",
    "        print (f\"error : '{e}'\")"
   ]
  },
  {
   "cell_type": "code",
   "execution_count": 40,
   "id": "ebed5743-0da3-464e-9c1a-401e261224a3",
   "metadata": {},
   "outputs": [],
   "source": [
    "def upload_csv_file(bucket_name , s3_key , local_file) :\n",
    "    try :\n",
    "        s3.upload_file(local_file , bucket_name , s3_key)\n",
    "        print (\"upload success\")\n",
    "    except Exception as e :\n",
    "        print (f\"error : '{e}'\")"
   ]
  },
  {
   "cell_type": "code",
   "execution_count": 41,
   "id": "8cbcd504-ac22-4a53-839c-1a7158dadc46",
   "metadata": {},
   "outputs": [
    {
     "name": "stdout",
     "output_type": "stream",
     "text": [
      "download success\n"
     ]
    }
   ],
   "source": [
    "s3_key = \"sondagepublic/sondage.xlsx\"\n",
    "local_file = 'sondage.xlsx'\n",
    "download_xl_file(BUCKET_NAME , s3_key , local_file)"
   ]
  },
  {
   "cell_type": "code",
   "execution_count": 42,
   "id": "4983e12a-57c4-42f8-8e2b-c1e80a94d9ba",
   "metadata": {},
   "outputs": [
    {
     "name": "stdout",
     "output_type": "stream",
     "text": [
      "        product  quantity        date  price_before  price_after  \\\n",
      "0       chemise         5       45750          1200          100   \n",
      "1  Paquet de 12        10       45764            60          100   \n",
      "2            P1        10       45607            10            8   \n",
      "3       montres         4       45762            50           35   \n",
      "4  paquet de 12        10  2025-04-19            20           99   \n",
      "5     nettoyant        10  2025-04-04          5000         6000   \n",
      "\n",
      "       prom_type gender  age  income  \n",
      "0  offre grouper  homme   21      45  \n",
      "1      réduction  homme   22   10000  \n",
      "2      réduction  homme   30      10  \n",
      "3  offre grouper  femme   20     500  \n",
      "4    bon d'achat  homme   16     100  \n",
      "5      réduction  homme   25    5000  \n"
     ]
    }
   ],
   "source": [
    "data = pd.read_excel(local_file , engine = \"openpyxl\")\n",
    "print(data)"
   ]
  },
  {
   "cell_type": "code",
   "execution_count": 43,
   "id": "6e159804-4b4c-46b1-9e56-8660fdfa0f98",
   "metadata": {},
   "outputs": [],
   "source": [
    "def delete_empty_row_col(df) :\n",
    "    df.dropna(how = 'all' , inplace = True)\n",
    "    df.dropna(axis=1 , how = 'all' , inplace = True)\n"
   ]
  },
  {
   "cell_type": "code",
   "execution_count": 44,
   "id": "0580e609-92b4-43d9-bd5a-043e0cd8ef82",
   "metadata": {},
   "outputs": [],
   "source": [
    "def rename_col(df) :\n",
    "    df.columns = df.columns.str.strip().str.lower().str.replace(' ','_')"
   ]
  },
  {
   "cell_type": "code",
   "execution_count": 45,
   "id": "374943bc-d8d9-4080-a0a1-1430b83df759",
   "metadata": {},
   "outputs": [],
   "source": [
    "def delete_duplicate(df) :\n",
    "    df.drop_duplicates(inplace=True)"
   ]
  },
  {
   "cell_type": "code",
   "execution_count": 46,
   "id": "6c046b34-0707-4127-a3df-4f8fb2d72881",
   "metadata": {},
   "outputs": [],
   "source": [
    "def replace_product(df) :\n",
    "    df[\"product\"] = df[\"product\"].fillna(\"unknown\")\n"
   ]
  },
  {
   "cell_type": "code",
   "execution_count": 47,
   "id": "c52610da-7293-4f3d-a48c-64e2fc8c4436",
   "metadata": {},
   "outputs": [],
   "source": [
    "def replace_qty(df) :\n",
    "    df[\"quantity\"] = df[\"quantity\"].fillna(1) "
   ]
  },
  {
   "cell_type": "code",
   "execution_count": 48,
   "id": "e043b3dc-21a5-4ab2-a21e-5c0c40b64484",
   "metadata": {},
   "outputs": [],
   "source": [
    "def ajust_prices(df) :\n",
    "    df.dropna(subset=[\"price_before\"] , inplace=True)\n",
    "    df.dropna(subset=[\"price_after\"] , inplace = True)\n",
    "    before = df[\"price_before\"]\n",
    "    after = df[\"price_after\"]\n",
    "    mask = df[\"price_after\"] > df[\"price_before\"]\n",
    "    temp = df.loc[mask, \"price_before\"].copy()\n",
    "    df.loc[mask, \"price_before\"] = df.loc[mask, \"price_after\"]\n",
    "    df.loc[mask, \"price_after\"] = temp"
   ]
  },
  {
   "cell_type": "code",
   "execution_count": 49,
   "id": "e663da85-fce5-45af-bbbc-a16a8e33e4aa",
   "metadata": {},
   "outputs": [],
   "source": [
    "delete_empty_row_col(data)\n",
    "rename_col(data) \n",
    "delete_duplicate(data)\n",
    "replace_product(data)\n",
    "replace_qty(data)\n",
    "ajust_prices(data)"
   ]
  },
  {
   "cell_type": "code",
   "execution_count": 54,
   "id": "33837b9f-aa3c-4b7b-8f94-f8de51950ffe",
   "metadata": {},
   "outputs": [],
   "source": [
    "data.to_csv('clean_data.csv' , index=False)"
   ]
  },
  {
   "cell_type": "code",
   "execution_count": 51,
   "id": "5b666ccb-8e55-498f-9d69-2ed9a6759949",
   "metadata": {},
   "outputs": [
    {
     "name": "stdout",
     "output_type": "stream",
     "text": [
      "upload success\n"
     ]
    }
   ],
   "source": [
    "upload_csv_file(BUCKET_NAME , \"sondagepublic/clean_sondage.csv\" , \"clean_data.csv\")"
   ]
  },
  {
   "cell_type": "code",
   "execution_count": 52,
   "id": "723431e6-1547-4878-b351-9dcfbea7d7b4",
   "metadata": {},
   "outputs": [
    {
     "name": "stdout",
     "output_type": "stream",
     "text": [
      "        product  quantity        date  price_before  price_after  \\\n",
      "0       chemise         5       45750          1200          100   \n",
      "1  Paquet de 12        10       45764           100           60   \n",
      "2            P1        10       45607            10            8   \n",
      "3       montres         4       45762            50           35   \n",
      "4  paquet de 12        10  2025-04-19            99           20   \n",
      "5     nettoyant        10  2025-04-04          6000         5000   \n",
      "\n",
      "       prom_type gender  age  income  \n",
      "0  offre grouper  homme   21      45  \n",
      "1      réduction  homme   22   10000  \n",
      "2      réduction  homme   30      10  \n",
      "3  offre grouper  femme   20     500  \n",
      "4    bon d'achat  homme   16     100  \n",
      "5      réduction  homme   25    5000  \n"
     ]
    }
   ],
   "source": [
    "print(data)"
   ]
  },
  {
   "cell_type": "code",
   "execution_count": 55,
   "id": "d2f599cc-137d-4d97-b0c0-45b40e19be79",
   "metadata": {},
   "outputs": [
    {
     "name": "stdout",
     "output_type": "stream",
     "text": [
      "        product  quantity        date  price_before  price_after  \\\n",
      "0       chemise         5       45750          1200          100   \n",
      "1  Paquet de 12        10       45764           100           60   \n",
      "2            P1        10       45607            10            8   \n",
      "3       montres         4       45762            50           35   \n",
      "4  paquet de 12        10  2025-04-19            99           20   \n",
      "5     nettoyant        10  2025-04-04          6000         5000   \n",
      "\n",
      "       prom_type gender  age  income  \n",
      "0  offre grouper  homme   21      45  \n",
      "1      réduction  homme   22   10000  \n",
      "2      réduction  homme   30      10  \n",
      "3  offre grouper  femme   20     500  \n",
      "4    bon d'achat  homme   16     100  \n",
      "5      réduction  homme   25    5000  \n"
     ]
    }
   ],
   "source": [
    "print(data)"
   ]
  },
  {
   "cell_type": "code",
   "execution_count": 58,
   "id": "4131df49-7a1e-409d-80ef-d7ca0c72c0e0",
   "metadata": {},
   "outputs": [
    {
     "name": "stdout",
     "output_type": "stream",
     "text": [
      "Les données ont été téléchargées dans Google Sheets.\n"
     ]
    }
   ],
   "source": [
    "scope = [\"https://spreadsheets.google.com/feeds\", \"https://www.googleapis.com/auth/drive\"]\n",
    "creds = ServiceAccountCredentials.from_json_keyfile_name('sheet_secret.json', scope)\n",
    "client = gspread.authorize(creds)\n",
    "spreadsheet = client.open(\"analyse\") \n",
    "worksheet = spreadsheet.sheet1\n",
    "for row in data.values.tolist():\n",
    "    worksheet.append_row(row)\n",
    "\n",
    "print(\"Les données ont été téléchargées dans Google Sheets.\")"
   ]
  },
  {
   "cell_type": "code",
   "execution_count": null,
   "id": "8e06b013-e9b4-4a99-b89b-6a7a6ea7f6da",
   "metadata": {},
   "outputs": [],
   "source": []
  }
 ],
 "metadata": {
  "kernelspec": {
   "display_name": "Python 3 (ipykernel)",
   "language": "python",
   "name": "python3"
  },
  "language_info": {
   "codemirror_mode": {
    "name": "ipython",
    "version": 3
   },
   "file_extension": ".py",
   "mimetype": "text/x-python",
   "name": "python",
   "nbconvert_exporter": "python",
   "pygments_lexer": "ipython3",
   "version": "3.12.3"
  }
 },
 "nbformat": 4,
 "nbformat_minor": 5
}
